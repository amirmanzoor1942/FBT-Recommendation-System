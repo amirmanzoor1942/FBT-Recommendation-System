{
 "cells": [
  {
   "cell_type": "code",
   "execution_count": 11,
   "id": "2c63bd5b-3cfc-4651-9182-35caa7a0e753",
   "metadata": {},
   "outputs": [],
   "source": [
    "# Import necessary libraries\n",
    "import pandas as pd\n",
    "import numpy as np\n",
    "from mlxtend.frequent_patterns import apriori, fpgrowth, association_rules"
   ]
  },
  {
   "cell_type": "code",
   "execution_count": 13,
   "id": "22e5d3db-7807-4752-84ef-b3bcbb521580",
   "metadata": {},
   "outputs": [],
   "source": [
    "# Load dataset from CSV file\n",
    "df = pd.read_csv(\"SKU_DATA.csv\")"
   ]
  },
  {
   "cell_type": "code",
   "execution_count": 15,
   "id": "27d26737-8ef0-4456-9d96-25c1ffa18edb",
   "metadata": {},
   "outputs": [],
   "source": [
    "# Ensure correct data types\n",
    "df[\"Customer_ID\"] = df[\"Customer_ID\"].astype(int)\n",
    "df[\"Order_ID\"] = df[\"Order_ID\"].astype(int)\n",
    "df[\"Quantity\"] = df[\"Quantity\"].astype(int)\n",
    "df[\"Price\"] = df[\"Price\"].astype(float)"
   ]
  },
  {
   "cell_type": "code",
   "execution_count": 17,
   "id": "a18ddb51-e8a5-4b16-9645-0a549fcd0d65",
   "metadata": {},
   "outputs": [
    {
     "name": "stdout",
     "output_type": "stream",
     "text": [
      "Dataset Loaded Successfully!\n",
      "   Customer_ID  Order_ID SKU_ID   Product_Name  Quantity  Price\n",
      "0            4         1   P011      Eye Drops         1  11.95\n",
      "1            4         1   P001        Aspirin         2  13.36\n",
      "2            4         1   P015  First Aid Kit         2  32.09\n",
      "3            4         1   P014      Sleep Aid         3  17.87\n",
      "4            4         1   P002      Ibuprofen         2  30.36\n"
     ]
    }
   ],
   "source": [
    "# Display dataset information\n",
    "print(\"Dataset Loaded Successfully!\")\n",
    "print(df.head())"
   ]
  },
  {
   "cell_type": "code",
   "execution_count": 21,
   "id": "33d8b03b-80e3-44e8-b75a-9b1daf8868cb",
   "metadata": {},
   "outputs": [],
   "source": [
    "# Convert dataset into transactional format (one-hot encoding)\n",
    "basket = df.pivot_table(index='Order_ID', columns='Product_Name', values='Quantity', aggfunc='sum').fillna(0)\n",
    "basket = basket.map(lambda x: 1 if x > 0 else 0)  # Convert counts to binary values"
   ]
  },
  {
   "cell_type": "code",
   "execution_count": 23,
   "id": "f2233c59-23f4-4232-ace9-038704b4d7f4",
   "metadata": {},
   "outputs": [
    {
     "name": "stderr",
     "output_type": "stream",
     "text": [
      "C:\\Users\\engrd\\anaconda3\\Lib\\site-packages\\mlxtend\\frequent_patterns\\fpcommon.py:161: DeprecationWarning: DataFrames with non-bool types result in worse computationalperformance and their support might be discontinued in the future.Please use a DataFrame with bool type\n",
      "  warnings.warn(\n"
     ]
    }
   ],
   "source": [
    "# Apply Apriori Algorithm\n",
    "frequent_itemsets_apriori = apriori(basket, min_support=0.02, use_colnames=True)\n",
    "rules_apriori = association_rules(frequent_itemsets_apriori, metric=\"lift\", min_threshold=1.0)"
   ]
  },
  {
   "cell_type": "code",
   "execution_count": 25,
   "id": "b9d857a3-8217-439e-9626-ae5ce821a0f3",
   "metadata": {},
   "outputs": [
    {
     "name": "stderr",
     "output_type": "stream",
     "text": [
      "C:\\Users\\engrd\\anaconda3\\Lib\\site-packages\\mlxtend\\frequent_patterns\\fpcommon.py:161: DeprecationWarning: DataFrames with non-bool types result in worse computationalperformance and their support might be discontinued in the future.Please use a DataFrame with bool type\n",
      "  warnings.warn(\n"
     ]
    }
   ],
   "source": [
    "# Apply FP-Growth Algorithm\n",
    "frequent_itemsets_fpgrowth = fpgrowth(basket, min_support=0.02, use_colnames=True)\n",
    "rules_fpgrowth = association_rules(frequent_itemsets_fpgrowth, metric=\"lift\", min_threshold=1.0)"
   ]
  },
  {
   "cell_type": "code",
   "execution_count": 27,
   "id": "94147fcc-35bc-4cc2-9bf4-65a587fcf8fb",
   "metadata": {},
   "outputs": [
    {
     "name": "stdout",
     "output_type": "stream",
     "text": [
      "\n",
      "Apriori Algorithm - Frequent Itemsets:\n",
      "      support                                     itemsets\n",
      "0    0.240000                              (Allergy Pills)\n",
      "1    0.230000                                    (Antacid)\n",
      "2    0.223333                                    (Aspirin)\n",
      "3    0.230000                                   (Bandages)\n",
      "4    0.230000                                (Cough Drops)\n",
      "..        ...                                          ...\n",
      "123  0.023333       (Thermometer, Hand Sanitizer, Antacid)\n",
      "124  0.020000        (Cough Drops, First Aid Kit, Aspirin)\n",
      "125  0.020000          (Eye Drops, First Aid Kit, Aspirin)\n",
      "126  0.020000       (Bandages, Thermometer, First Aid Kit)\n",
      "127  0.020000  (Thermometer, Pain Reliever, First Aid Kit)\n",
      "\n",
      "[128 rows x 2 columns]\n"
     ]
    }
   ],
   "source": [
    "# Display results\n",
    "print(\"\\nApriori Algorithm - Frequent Itemsets:\")\n",
    "print(frequent_itemsets_apriori)"
   ]
  },
  {
   "cell_type": "code",
   "execution_count": 29,
   "id": "0ae27d16-967a-4c0e-8ff7-75861797a2a8",
   "metadata": {},
   "outputs": [
    {
     "name": "stdout",
     "output_type": "stream",
     "text": [
      "\n",
      "Apriori Association Rules:\n",
      "                        antecedents                     consequents   support  \\\n",
      "0                     (Cough Drops)                 (Allergy Pills)  0.056667   \n",
      "1                   (Allergy Pills)                   (Cough Drops)  0.056667   \n",
      "2                        (Bandages)                       (Antacid)  0.063333   \n",
      "3                         (Antacid)                      (Bandages)  0.063333   \n",
      "4                     (Cough Syrup)                       (Antacid)  0.060000   \n",
      "..                              ...                             ...       ...   \n",
      "105    (Thermometer, First Aid Kit)                 (Pain Reliever)  0.020000   \n",
      "106  (First Aid Kit, Pain Reliever)                   (Thermometer)  0.020000   \n",
      "107                   (Thermometer)  (First Aid Kit, Pain Reliever)  0.020000   \n",
      "108                 (Pain Reliever)    (Thermometer, First Aid Kit)  0.020000   \n",
      "109                 (First Aid Kit)    (Thermometer, Pain Reliever)  0.020000   \n",
      "\n",
      "     confidence      lift  \n",
      "0      0.246377  1.026570  \n",
      "1      0.236111  1.026570  \n",
      "2      0.275362  1.197227  \n",
      "3      0.275362  1.197227  \n",
      "4      0.264706  1.150895  \n",
      "..          ...       ...  \n",
      "105    0.375000  1.844262  \n",
      "106    0.400000  1.935484  \n",
      "107    0.096774  1.935484  \n",
      "108    0.098361  1.844262  \n",
      "109    0.078947  1.973684  \n",
      "\n",
      "[110 rows x 5 columns]\n"
     ]
    }
   ],
   "source": [
    "print(\"\\nApriori Association Rules:\")\n",
    "print(rules_apriori[['antecedents', 'consequents', 'support', 'confidence', 'lift']])"
   ]
  },
  {
   "cell_type": "code",
   "execution_count": 31,
   "id": "a739a804-c807-47a6-8ebe-8b1eec4089b8",
   "metadata": {},
   "outputs": [
    {
     "name": "stdout",
     "output_type": "stream",
     "text": [
      "\n",
      "FP-Growth Algorithm - Frequent Itemsets:\n",
      "      support                  itemsets\n",
      "0    0.253333           (First Aid Kit)\n",
      "1    0.223333                 (Aspirin)\n",
      "2    0.216667               (Eye Drops)\n",
      "3    0.213333               (Sleep Aid)\n",
      "4    0.193333               (Ibuprofen)\n",
      "..        ...                       ...\n",
      "123  0.040000     (Bandages, Face Mask)\n",
      "124  0.056667      (Face Mask, Antacid)\n",
      "125  0.043333  (Cough Syrup, Face Mask)\n",
      "126  0.033333    (Eye Drops, Face Mask)\n",
      "127  0.046667    (Face Mask, Sleep Aid)\n",
      "\n",
      "[128 rows x 2 columns]\n"
     ]
    }
   ],
   "source": [
    "print(\"\\nFP-Growth Algorithm - Frequent Itemsets:\")\n",
    "print(frequent_itemsets_fpgrowth)"
   ]
  },
  {
   "cell_type": "code",
   "execution_count": 33,
   "id": "fe7337d2-80cb-45e9-bd5d-6e53511e474b",
   "metadata": {},
   "outputs": [
    {
     "name": "stdout",
     "output_type": "stream",
     "text": [
      "\n",
      "FP-Growth Association Rules:\n",
      "                      antecedents      consequents   support  confidence  \\\n",
      "0                 (First Aid Kit)        (Aspirin)  0.056667    0.223684   \n",
      "1                       (Aspirin)  (First Aid Kit)  0.056667    0.253731   \n",
      "2    (Cough Drops, First Aid Kit)        (Aspirin)  0.020000    0.428571   \n",
      "3          (Cough Drops, Aspirin)  (First Aid Kit)  0.020000    0.428571   \n",
      "4        (First Aid Kit, Aspirin)    (Cough Drops)  0.020000    0.352941   \n",
      "..                            ...              ...       ...         ...   \n",
      "105                   (Face Mask)    (Cough Drops)  0.050000    0.241935   \n",
      "106                   (Face Mask)        (Antacid)  0.056667    0.274194   \n",
      "107                     (Antacid)      (Face Mask)  0.056667    0.246377   \n",
      "108                   (Face Mask)      (Sleep Aid)  0.046667    0.225806   \n",
      "109                   (Sleep Aid)      (Face Mask)  0.046667    0.218750   \n",
      "\n",
      "         lift  \n",
      "0    1.001571  \n",
      "1    1.001571  \n",
      "2    1.918977  \n",
      "3    1.691729  \n",
      "4    1.534527  \n",
      "..        ...  \n",
      "105  1.051893  \n",
      "106  1.192146  \n",
      "107  1.192146  \n",
      "108  1.058468  \n",
      "109  1.058468  \n",
      "\n",
      "[110 rows x 5 columns]\n"
     ]
    }
   ],
   "source": [
    "print(\"\\nFP-Growth Association Rules:\")\n",
    "print(rules_fpgrowth[['antecedents', 'consequents', 'support', 'confidence', 'lift']])"
   ]
  },
  {
   "cell_type": "code",
   "execution_count": 35,
   "id": "ebf01078-cf1e-49be-88d8-a1f162ed4f18",
   "metadata": {},
   "outputs": [],
   "source": [
    "# Save results to CSV files\n",
    "rules_apriori.to_csv(\"Apriori_Rules.csv\", index=False)\n",
    "rules_fpgrowth.to_csv(\"FP_Growth_Rules.csv\", index=False)"
   ]
  },
  {
   "cell_type": "code",
   "execution_count": 37,
   "id": "8c0842c0-6719-4a39-aa85-3c37ebbf8f8d",
   "metadata": {},
   "outputs": [
    {
     "name": "stdout",
     "output_type": "stream",
     "text": [
      "\n",
      "Recommendation rules saved as 'Apriori_Rules.csv' and 'FP_Growth_Rules.csv'.\n"
     ]
    }
   ],
   "source": [
    "print(\"\\nRecommendation rules saved as 'Apriori_Rules.csv' and 'FP_Growth_Rules.csv'.\")"
   ]
  },
  {
   "cell_type": "code",
   "execution_count": null,
   "id": "9d01af7c-e016-4e94-a4bb-f6d56a9e305d",
   "metadata": {},
   "outputs": [],
   "source": []
  }
 ],
 "metadata": {
  "kernelspec": {
   "display_name": "Python [conda env:base] *",
   "language": "python",
   "name": "conda-base-py"
  },
  "language_info": {
   "codemirror_mode": {
    "name": "ipython",
    "version": 3
   },
   "file_extension": ".py",
   "mimetype": "text/x-python",
   "name": "python",
   "nbconvert_exporter": "python",
   "pygments_lexer": "ipython3",
   "version": "3.12.7"
  }
 },
 "nbformat": 4,
 "nbformat_minor": 5
}
